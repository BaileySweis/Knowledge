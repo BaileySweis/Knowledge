{
 "cells": [
  {
   "cell_type": "markdown",
   "metadata": {},
   "source": [
    "# Bailey Sweis \n",
    "## Week 5: 2/15/2022\n",
    "### Python Statments [if, else, elif] "
   ]
  },
  {
   "cell_type": "markdown",
   "metadata": {},
   "source": [
    "**the format of the if-statement**\n",
    "```\n",
    "if condition:\n",
    "    perform action1\n",
    "elif condition2:\n",
    "    perform action2\n",
    "else:\n",
    "    perform action3\n",
    "```"
   ]
  },
  {
   "cell_type": "code",
   "execution_count": 1,
   "metadata": {},
   "outputs": [],
   "source": [
    "# if statement\n",
    "if 5 > 4:\n",
    "    print(\"This is correct\")"
   ]
  },
  {
   "cell_type": "code",
   "execution_count": 2,
   "metadata": {},
   "outputs": [],
   "source": [
    "x = 10 \n",
    "y = 5\n",
    "if x>y:\n",
    "    print(x, \"Is greater than\", y)"
   ]
  },
  {
   "cell_type": "code",
   "execution_count": 3,
   "metadata": {},
   "outputs": [],
   "source": [
    "x = 10 \n",
    "y = 5\n",
    "if x<y:\n",
    "    print(x, \"is smaller than\", y)"
   ]
  },
  {
   "cell_type": "code",
   "execution_count": 4,
   "metadata": {},
   "outputs": [
    {
     "name": "stdout",
     "output_type": "stream",
     "text": [
      "Hi Five!\n"
     ]
    }
   ],
   "source": [
    "x = 5\n",
    "if x == 5:\n",
    "    print(\"Hi Five!\")\n",
    "else:\n",
    "    print(\"Not Five\")"
   ]
  },
  {
   "cell_type": "code",
   "execution_count": 5,
   "metadata": {},
   "outputs": [
    {
     "name": "stdout",
     "output_type": "stream",
     "text": [
      "5\n",
      "Hi Five!\n"
     ]
    }
   ],
   "source": [
    "x = int(input())\n",
    "if x == 5:\n",
    "    print(\"Hi Five!\")\n",
    "else:\n",
    "    print(\"Not Five\")"
   ]
  },
  {
   "cell_type": "code",
   "execution_count": 6,
   "metadata": {},
   "outputs": [
    {
     "name": "stdout",
     "output_type": "stream",
     "text": [
      "Then, redo test2\n"
     ]
    }
   ],
   "source": [
    "test1 = 98\n",
    "test2 = 67\n",
    "\n",
    "if test1 < test2:\n",
    "    print(\"you may redo test1\")\n",
    "else:\n",
    "    print(\"Then, redo test2\")"
   ]
  },
  {
   "cell_type": "code",
   "execution_count": 7,
   "metadata": {},
   "outputs": [
    {
     "ename": "IndentationError",
     "evalue": "expected an indented block (<ipython-input-7-c3e76f471e1d>, line 2)",
     "output_type": "error",
     "traceback": [
      "\u001b[1;36m  File \u001b[1;32m\"<ipython-input-7-c3e76f471e1d>\"\u001b[1;36m, line \u001b[1;32m2\u001b[0m\n\u001b[1;33m    print(\"Redo test2\")\u001b[0m\n\u001b[1;37m        ^\u001b[0m\n\u001b[1;31mIndentationError\u001b[0m\u001b[1;31m:\u001b[0m expected an indented block\n"
     ]
    }
   ],
   "source": [
    "if test2 < test1:\n",
    "print(\"Redo test2\")"
   ]
  },
  {
   "cell_type": "code",
   "execution_count": null,
   "metadata": {},
   "outputs": [],
   "source": [
    "if test2 < test1:\n",
    "    print(\"Redo test2\")"
   ]
  },
  {
   "cell_type": "code",
   "execution_count": 8,
   "metadata": {},
   "outputs": [
    {
     "name": "stdout",
     "output_type": "stream",
     "text": [
      "Test2 is greater than test1\n",
      "You may think to redo test1\n",
      "After if-Statement\n"
     ]
    }
   ],
   "source": [
    "# if-elif statement\n",
    "test1 = 81\n",
    "test2 = 89\n",
    "if test1>test2:\n",
    "    print(\"test1 is greater than test2\")\n",
    "    print(\"You may think to redo test2\")\n",
    "elif test2>test1:\n",
    "    print(\"Test2 is greater than test1\")\n",
    "    print(\"You may think to redo test1\")\n",
    "else:\n",
    "    print(\"test1 and test2 are the same\")\n",
    "    print(\"You may take either test1 or test2\")\n",
    "    \n",
    "print(\"After if-Statement\")"
   ]
  },
  {
   "cell_type": "code",
   "execution_count": 11,
   "metadata": {},
   "outputs": [
    {
     "name": "stdout",
     "output_type": "stream",
     "text": [
      "hi Five\n"
     ]
    }
   ],
   "source": [
    "# short hand if statement\n",
    "if 5 > 4 : print('hi Five')"
   ]
  },
  {
   "cell_type": "code",
   "execution_count": 12,
   "metadata": {},
   "outputs": [
    {
     "name": "stdout",
     "output_type": "stream",
     "text": [
      "1\n",
      "2\n",
      "3\n"
     ]
    }
   ],
   "source": [
    "if 'c' in 'cis310' : print('1'); print('2'); print('3')"
   ]
  },
  {
   "cell_type": "code",
   "execution_count": 14,
   "metadata": {},
   "outputs": [
    {
     "name": "stdout",
     "output_type": "stream",
     "text": [
      "test1\n"
     ]
    }
   ],
   "source": [
    "# short hand if... else statement\n",
    "test1, test2 = 89, 79\n",
    "print('test1') if test1 > test2 else print('test2')"
   ]
  },
  {
   "cell_type": "code",
   "execution_count": 15,
   "metadata": {},
   "outputs": [
    {
     "name": "stdout",
     "output_type": "stream",
     "text": [
      "let's go to the rec center\n"
     ]
    }
   ],
   "source": [
    "raining = True\n",
    "print(\"let's go to the\", 'beach' if not raining else 'rec center') "
   ]
  },
  {
   "cell_type": "code",
   "execution_count": 16,
   "metadata": {},
   "outputs": [
    {
     "name": "stdout",
     "output_type": "stream",
     "text": [
      "Both are true\n"
     ]
    }
   ],
   "source": [
    "# and\n",
    "s1, s2, s3 = 89, 75, 92\n",
    "if s1 > s2 and s3 > s2:\n",
    "    print(\"Both are true\")"
   ]
  },
  {
   "cell_type": "code",
   "execution_count": 19,
   "metadata": {},
   "outputs": [],
   "source": [
    "# usin pass - do nothing\n",
    "if s1 > 60:\n",
    "    pass"
   ]
  },
  {
   "cell_type": "code",
   "execution_count": 23,
   "metadata": {},
   "outputs": [
    {
     "name": "stdout",
     "output_type": "stream",
     "text": [
      "who is in the list\n"
     ]
    }
   ],
   "source": [
    "if 'who' in ['what', 'which', 'where', 'who']: print('who is in the list')"
   ]
  },
  {
   "cell_type": "code",
   "execution_count": 25,
   "metadata": {},
   "outputs": [
    {
     "name": "stdout",
     "output_type": "stream",
     "text": [
      "Hello Joe\n",
      "He dont exist\n"
     ]
    }
   ],
   "source": [
    "# easy way to use built in fuctions, instead of if statement\n",
    "names = {'Fred': \"Hello Fred\", 'Rama': 'Hello Rama', 'Joe': 'Hello Joe', 'Alice': 'Hello Alice'}\n",
    "print(names.get('Joe', 'I dont know who you are' ))\n",
    "print(names.get('Rick', 'He dont exist'))"
   ]
  },
  {
   "cell_type": "code",
   "execution_count": null,
   "metadata": {},
   "outputs": [],
   "source": []
  }
 ],
 "metadata": {
  "kernelspec": {
   "display_name": "Python 3.7 - default",
   "language": "python",
   "name": "py37_default"
  },
  "language_info": {
   "codemirror_mode": {
    "name": "ipython",
    "version": 3
   },
   "file_extension": ".py",
   "mimetype": "text/x-python",
   "name": "python",
   "nbconvert_exporter": "python",
   "pygments_lexer": "ipython3",
   "version": "3.7.7"
  }
 },
 "nbformat": 4,
 "nbformat_minor": 4
}
