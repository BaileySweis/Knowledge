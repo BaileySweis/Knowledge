{
 "cells": [
  {
   "cell_type": "markdown",
   "metadata": {},
   "source": [
    "# Bailey Sweis \n",
    "## Week 6: 2/24/2022\n",
    "### Python loops - while"
   ]
  },
  {
   "cell_type": "code",
   "execution_count": 5,
   "metadata": {},
   "outputs": [],
   "source": [
    "#pass\n",
    "a = 'cis310DataAnalyticsClass'\n",
    "i = 0\n",
    "\n",
    "while i < len(a):\n",
    "    i+=1\n",
    "    if (i % 2 == 0):\n",
    "        print(a[i])\n",
    "    else:\n",
    "        pass\n",
    "    i+=1"
   ]
  },
  {
   "cell_type": "code",
   "execution_count": 6,
   "metadata": {},
   "outputs": [
    {
     "name": "stdout",
     "output_type": "stream",
     "text": [
      "num is currently: 1\n",
      "nym is less than 10, now adding 1 to num, if num != 5\n",
      "num is currently: 2\n",
      "nym is less than 10, now adding 1 to num, if num != 5\n",
      "num is currently: 3\n",
      "nym is less than 10, now adding 1 to num, if num != 5\n",
      "num is currently: 4\n",
      "nym is less than 10, now adding 1 to num, if num != 5\n",
      "num is currently: 5\n",
      "nym is less than 10, now adding 1 to num, if num != 5\n"
     ]
    }
   ],
   "source": [
    "#break keywords\n",
    "num = 1\n",
    "while num < 10:\n",
    "    print(\"num is currently:\", num)\n",
    "    print(\"nym is less than 10, now adding 1 to num, if num != 5\")\n",
    "    if num == 5:\n",
    "        break\n",
    "    num+=1"
   ]
  },
  {
   "cell_type": "code",
   "execution_count": 8,
   "metadata": {},
   "outputs": [
    {
     "name": "stdout",
     "output_type": "stream",
     "text": [
      "The current letter: c\n",
      "The current letter: i\n",
      "The current letter: s\n",
      "The current letter: 3\n",
      "The current letter: 1\n",
      "The current letter: 0\n",
      "The current letter: D\n"
     ]
    }
   ],
   "source": [
    "# break the loop as soon it sees 'a'\n",
    "# or 'l'\n",
    "a = 'cis310DataAnalyticsClass'\n",
    "i = 0\n",
    "while i < len(a):\n",
    "    if a[i] == 'a' or a[i] == 'l':\n",
    "        break\n",
    "    print(\"The current letter:\", a[i])\n",
    "    i+=1\n",
    "        "
   ]
  },
  {
   "cell_type": "code",
   "execution_count": 2,
   "metadata": {},
   "outputs": [
    {
     "name": "stdout",
     "output_type": "stream",
     "text": [
      "The current letter: 0 c\n",
      "The current letter: 1 i\n",
      "The current letter: 2 s\n",
      "The current letter: 3 3\n",
      "The current letter: 4 1\n",
      "The current letter: 5 0\n",
      "The current letter: 6 D\n",
      "The current letter: 8 t\n",
      "The current letter: 10 A\n",
      "The current letter: 11 n\n",
      "The current letter: 14 y\n",
      "The current letter: 15 t\n",
      "The current letter: 16 i\n",
      "The current letter: 17 c\n",
      "The current letter: 18 s\n",
      "The current letter: 19 C\n",
      "The current letter: 22 s\n",
      "The current letter: 23 s\n"
     ]
    }
   ],
   "source": [
    "# with continue\n",
    "a = 'cis310DataAnalyticsClass'\n",
    "i = 0\n",
    "\n",
    "while i < len(a):\n",
    "    if a[i] == 'a' or a[i] == 'l':\n",
    "        i+=1\n",
    "        continue\n",
    "    print(\"The current letter:\", i, a[i])\n",
    "    i+=1"
   ]
  },
  {
   "cell_type": "code",
   "execution_count": null,
   "metadata": {},
   "outputs": [],
   "source": [
    "# as an example cosider "
   ]
  },
  {
   "cell_type": "code",
   "execution_count": null,
   "metadata": {},
   "outputs": [],
   "source": []
  }
 ],
 "metadata": {
  "kernelspec": {
   "display_name": "Python 3.7 - default",
   "language": "python",
   "name": "py37_default"
  },
  "language_info": {
   "codemirror_mode": {
    "name": "ipython",
    "version": 3
   },
   "file_extension": ".py",
   "mimetype": "text/x-python",
   "name": "python",
   "nbconvert_exporter": "python",
   "pygments_lexer": "ipython3",
   "version": "3.7.7"
  }
 },
 "nbformat": 4,
 "nbformat_minor": 4
}
