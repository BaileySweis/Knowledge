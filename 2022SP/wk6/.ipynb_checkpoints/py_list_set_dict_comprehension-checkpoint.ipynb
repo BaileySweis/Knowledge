{
 "cells": [
  {
   "cell_type": "markdown",
   "metadata": {},
   "source": [
    "# Bailey Sweis \n",
    "## Week 6: 2/24/2022\n",
    "### Python - list set and dict comprehension"
   ]
  },
  {
   "cell_type": "markdown",
   "metadata": {},
   "source": [
    "# list comprehension format:\n",
    "\n",
    "<code> new list = [expression for member in iterable}<code/>\n",
    "   \n",
    "\n",
    "## using Conditional Logic\n",
    "   \n",
    "<code> new_list = [expresion for member in iterable (if conditonal)]\n",
    "<code/>\n",
    "   \n",
    "<code> new_list = [expresion (if conditonal) for member in iterable]\n",
    "<code/>"
   ]
  },
  {
   "cell_type": "code",
   "execution_count": 1,
   "metadata": {},
   "outputs": [
    {
     "name": "stdout",
     "output_type": "stream",
     "text": [
      "['C', 'I', 'S', '3', '1', '0', 'D', 'a', 't', 'a']\n"
     ]
    }
   ],
   "source": [
    "lst = []\n",
    "for letter in 'CIS310Data':\n",
    "    lst.append(letter)\n",
    "\n",
    "print (lst)"
   ]
  },
  {
   "cell_type": "code",
   "execution_count": 2,
   "metadata": {},
   "outputs": [
    {
     "name": "stdout",
     "output_type": "stream",
     "text": [
      "['C', 'I', 'S', '3', '1', '0', 'D', 'a', 't', 'a']\n"
     ]
    }
   ],
   "source": [
    "'''\n",
    "Syntax of the lst comprehension\n",
    "[expression for item in list]\n",
    "'''\n",
    "lst = [letter for letter in 'CIS310Data']\n",
    "print(lst)"
   ]
  },
  {
   "cell_type": "code",
   "execution_count": 3,
   "metadata": {},
   "outputs": [
    {
     "data": {
      "text/plain": [
       "[0, 1, 4, 9, 16, 25, 36, 49, 64, 81, 100]"
      ]
     },
     "execution_count": 3,
     "metadata": {},
     "output_type": "execute_result"
    }
   ],
   "source": [
    "squares = []\n",
    "\n",
    "for i in range(11):\n",
    "    squares.append(i*i)\n",
    "squares"
   ]
  },
  {
   "cell_type": "code",
   "execution_count": 4,
   "metadata": {},
   "outputs": [
    {
     "data": {
      "text/plain": [
       "[0, 1, 4, 9, 16, 25, 36, 49, 64, 81, 100]"
      ]
     },
     "execution_count": 4,
     "metadata": {},
     "output_type": "execute_result"
    }
   ],
   "source": [
    "squares = [ n * n for n in range(11)]\n",
    "squares"
   ]
  },
  {
   "cell_type": "code",
   "execution_count": 5,
   "metadata": {},
   "outputs": [
    {
     "data": {
      "text/plain": [
       "[0, 4, 16, 36, 64, 100]"
      ]
     },
     "execution_count": 5,
     "metadata": {},
     "output_type": "execute_result"
    }
   ],
   "source": [
    "# filter the data with conditional logic\n",
    "squares = [ n*n for n in range(11) if n%2 == 0]\n",
    "squares"
   ]
  },
  {
   "cell_type": "code",
   "execution_count": 6,
   "metadata": {},
   "outputs": [
    {
     "data": {
      "text/plain": [
       "[1, 9, 25, 49, 81]"
      ]
     },
     "execution_count": 6,
     "metadata": {},
     "output_type": "execute_result"
    }
   ],
   "source": [
    "lst2 = [ n*n for n in range(11) if n%2 == 1]\n",
    "lst2"
   ]
  },
  {
   "cell_type": "code",
   "execution_count": 7,
   "metadata": {},
   "outputs": [
    {
     "data": {
      "text/plain": [
       "['i',\n",
       " 'o',\n",
       " 'i',\n",
       " 'u',\n",
       " 'a',\n",
       " 'e',\n",
       " 'u',\n",
       " 'e',\n",
       " 'i',\n",
       " 'a',\n",
       " 'a',\n",
       " 'i',\n",
       " 'a',\n",
       " 'i',\n",
       " 'i',\n",
       " 'a',\n",
       " 'a',\n",
       " 'i',\n",
       " 'a',\n",
       " 'i']"
      ]
     },
     "execution_count": 7,
     "metadata": {},
     "output_type": "execute_result"
    }
   ],
   "source": [
    "s = 'Cis310 comminucate students with analytical thinking and practical skills'\n",
    "vowels = [l for l in s if l in 'aeiou']\n",
    "vowels"
   ]
  },
  {
   "cell_type": "code",
   "execution_count": 8,
   "metadata": {},
   "outputs": [
    {
     "data": {
      "text/plain": [
       "[1.25, 0, 10.22, 3.78, 0, 1.16]"
      ]
     },
     "execution_count": 8,
     "metadata": {},
     "output_type": "execute_result"
    }
   ],
   "source": [
    "prices = [1.25, -9.45, 10.22, 3.78, -5.92, 1.16]\n",
    "new_prices = [v if v > 0 else 0 for v in prices]\n",
    "new_prices"
   ]
  },
  {
   "cell_type": "code",
   "execution_count": 9,
   "metadata": {},
   "outputs": [
    {
     "data": {
      "text/plain": [
       "['Odd', 'Even', 'Odd', 'Even', 'Odd', 'Even', 'Odd', 'Even', 'Odd', 'Even']"
      ]
     },
     "execution_count": 9,
     "metadata": {},
     "output_type": "execute_result"
    }
   ],
   "source": [
    "lst = ['Even' if num%2 == 0 else 'Odd' for num in range(1,11)]\n",
    "lst"
   ]
  },
  {
   "cell_type": "code",
   "execution_count": 10,
   "metadata": {},
   "outputs": [
    {
     "data": {
      "text/plain": [
       "['t',\n",
       " 'd',\n",
       " 's',\n",
       " 'f',\n",
       " 'n',\n",
       " 'd',\n",
       " 't',\n",
       " 'h',\n",
       " 't',\n",
       " 't',\n",
       " 'h',\n",
       " 'f',\n",
       " 'n',\n",
       " 'n',\n",
       " 'c',\n",
       " 'l',\n",
       " 'm',\n",
       " 'p',\n",
       " 'c',\n",
       " 't',\n",
       " 'f',\n",
       " 'p',\n",
       " 'r',\n",
       " 'q',\n",
       " 'l',\n",
       " 't',\n",
       " 'y',\n",
       " 'd',\n",
       " 't',\n",
       " 'c',\n",
       " 's',\n",
       " 't',\n",
       " 't',\n",
       " 'h',\n",
       " 'c',\n",
       " 'n',\n",
       " 'm',\n",
       " 'y',\n",
       " 't',\n",
       " 'r',\n",
       " 'l',\n",
       " 'l',\n",
       " 'n',\n",
       " 'n']"
      ]
     },
     "execution_count": 10,
     "metadata": {},
     "output_type": "execute_result"
    }
   ],
   "source": [
    "# conditional logic\n",
    "s = 'Studies found that the financial impact of poor quality data cost the US economy $3.1 trillion in 2016'\n",
    "vowles = 'aeiou'\n",
    "lst = [letter for letter in s if letter in s if letter.isalpha() and letter.islower() and letter not in vowles]\n",
    "lst"
   ]
  },
  {
   "cell_type": "code",
   "execution_count": 16,
   "metadata": {},
   "outputs": [
    {
     "data": {
      "text/plain": [
       "[1.1772,\n",
       " 24.84,\n",
       " 60.480000000000004,\n",
       " 62.467200000000005,\n",
       " 4.924799999999999,\n",
       " 7.3224,\n",
       " 5.4]"
      ]
     },
     "execution_count": 16,
     "metadata": {},
     "output_type": "execute_result"
    }
   ],
   "source": [
    "# as an example, consider a situation in which you need to calculate\n",
    "# the price after tax for a list of transactions:\n",
    "txns = [1.09, 23,56, -5.8,57.84,4.56, -3, 6.78, -7,5]\n",
    "Tax_RATE = .08\n",
    "final_prices = [(l * Tax_RATE) + l for l in txns if l > 0]\n",
    "final_prices\n"
   ]
  },
  {
   "cell_type": "code",
   "execution_count": 17,
   "metadata": {},
   "outputs": [
    {
     "data": {
      "text/plain": [
       "[1, 4, 9, 16, 25, 36, 49, 64, 81, 100]"
      ]
     },
     "execution_count": 17,
     "metadata": {},
     "output_type": "execute_result"
    }
   ],
   "source": [
    "# nested list comprehension\n",
    "lst = [n*n for n in range(1,11)]\n",
    "lst"
   ]
  },
  {
   "cell_type": "code",
   "execution_count": 26,
   "metadata": {},
   "outputs": [],
   "source": [
    "lst = [num**2 for num in [n*n for n in range(1,11) if n%2 == 0]]"
   ]
  },
  {
   "cell_type": "code",
   "execution_count": 27,
   "metadata": {},
   "outputs": [
    {
     "data": {
      "text/plain": [
       "[16, 256, 1296, 4096, 10000]"
      ]
     },
     "execution_count": 27,
     "metadata": {},
     "output_type": "execute_result"
    }
   ],
   "source": [
    "lst"
   ]
  },
  {
   "cell_type": "code",
   "execution_count": 28,
   "metadata": {},
   "outputs": [
    {
     "data": {
      "text/plain": [
       "{'a', 'e', 'i', 'o', 'u'}"
      ]
     },
     "execution_count": 28,
     "metadata": {},
     "output_type": "execute_result"
    }
   ],
   "source": [
    "# using set and dict comprehension\n",
    "s = \"data prepeperation consumes an amoun tof time (up to 8-%) spent on analytics\"\n",
    "unique_vowles = {i for i in s if i in 'aeiou'}\n",
    "unique_vowles"
   ]
  },
  {
   "cell_type": "code",
   "execution_count": 29,
   "metadata": {},
   "outputs": [
    {
     "data": {
      "text/plain": [
       "{0: 0, 1: 1, 2: 4, 3: 9, 4: 16, 5: 25, 6: 36, 7: 49, 8: 64, 9: 81}"
      ]
     },
     "execution_count": 29,
     "metadata": {},
     "output_type": "execute_result"
    }
   ],
   "source": [
    "d = {i: i ** 2 for i in range(10)}\n",
    "d"
   ]
  },
  {
   "cell_type": "code",
   "execution_count": 30,
   "metadata": {},
   "outputs": [
    {
     "data": {
      "text/plain": [
       "9"
      ]
     },
     "execution_count": 30,
     "metadata": {},
     "output_type": "execute_result"
    }
   ],
   "source": [
    "d[3]"
   ]
  },
  {
   "cell_type": "code",
   "execution_count": 38,
   "metadata": {},
   "outputs": [
    {
     "data": {
      "text/plain": [
       "{'Austin': [40, 41, 42, 43, 44, 45, 46, 47, 48, 49],\n",
       " 'Tacoma': [40, 41, 42, 43, 44, 45, 46, 47, 48, 49],\n",
       " 'Topeka': [40, 41, 42, 43, 44, 45, 46, 47, 48, 49],\n",
       " 'Sacramento': [40, 41, 42, 43, 44, 45, 46, 47, 48, 49],\n",
       " 'Charlotte': [40, 41, 42, 43, 44, 45, 46, 47, 48, 49]}"
      ]
     },
     "execution_count": 38,
     "metadata": {},
     "output_type": "execute_result"
    }
   ],
   "source": [
    "# use of lst comp in dict comp\n",
    "cities = ['Austin', 'Tacoma', 'Topeka', 'Sacramento', 'Charlotte']\n",
    "temps = {c: [n for n in range(40,50)] for c in cities}\n",
    "temps"
   ]
  },
  {
   "cell_type": "code",
   "execution_count": 43,
   "metadata": {},
   "outputs": [],
   "source": [
    "# using a dict\n",
    "l = [1,2,1,2,3,4,5,6,2]\n",
    "d = {1: 'yes', 2: 'no'}\n",
    "final = [d.get(i, \"idle\") for i in l]"
   ]
  },
  {
   "cell_type": "code",
   "execution_count": 44,
   "metadata": {},
   "outputs": [
    {
     "data": {
      "text/plain": [
       "['yes', 'no', 'yes', 'no', 'idle', 'idle', 'idle', 'idle', 'no']"
      ]
     },
     "execution_count": 44,
     "metadata": {},
     "output_type": "execute_result"
    }
   ],
   "source": [
    "final"
   ]
  },
  {
   "cell_type": "code",
   "execution_count": 55,
   "metadata": {},
   "outputs": [
    {
     "data": {
      "text/plain": [
       "['Yes', 'No', 'Yes', 'No', 'idle', 'idle', 'idle', 'idle', 'No']"
      ]
     },
     "execution_count": 55,
     "metadata": {},
     "output_type": "execute_result"
    }
   ],
   "source": [
    "l = [1,2,1,2,3,4,5,6,2]\n",
    "lst = ['Yes' if n == 1 else 'No' if n==2 else \"idle\" for n in l]\n",
    "lst"
   ]
  },
  {
   "cell_type": "code",
   "execution_count": 56,
   "metadata": {},
   "outputs": [],
   "source": [
    "x = [5,2,1,4,5,2,1,3]\n",
    "lst = [\"accept\" if n > 4 else \"Reject\" if n < 2 else \"Pending\" for n in x]"
   ]
  },
  {
   "cell_type": "code",
   "execution_count": 57,
   "metadata": {},
   "outputs": [
    {
     "data": {
      "text/plain": [
       "['accept',\n",
       " 'Pending',\n",
       " 'Reject',\n",
       " 'Pending',\n",
       " 'accept',\n",
       " 'Pending',\n",
       " 'Reject',\n",
       " 'Pending']"
      ]
     },
     "execution_count": 57,
     "metadata": {},
     "output_type": "execute_result"
    }
   ],
   "source": [
    "lst"
   ]
  },
  {
   "cell_type": "code",
   "execution_count": null,
   "metadata": {},
   "outputs": [],
   "source": []
  }
 ],
 "metadata": {
  "kernelspec": {
   "display_name": "Python 3.7 - default",
   "language": "python",
   "name": "py37_default"
  },
  "language_info": {
   "codemirror_mode": {
    "name": "ipython",
    "version": 3
   },
   "file_extension": ".py",
   "mimetype": "text/x-python",
   "name": "python",
   "nbconvert_exporter": "python",
   "pygments_lexer": "ipython3",
   "version": "3.7.7"
  }
 },
 "nbformat": 4,
 "nbformat_minor": 4
}
